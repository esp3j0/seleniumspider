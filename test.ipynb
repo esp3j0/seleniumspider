{
 "cells": [
  {
   "cell_type": "code",
   "execution_count": 2,
   "metadata": {},
   "outputs": [],
   "source": [
    "import requests\n",
    "from selenium import webdriver\n",
    "from selenium.webdriver.common.by import By\n",
    "from selenium.webdriver.support.ui import WebDriverWait\n",
    "from selenium.webdriver.support import expected_conditions as EC\n",
    "from os import popen\n",
    "from time import sleep\n",
    "from os import system,path\n",
    "import threading\n",
    "\n",
    "\n",
    "class pdb_proteintoolweb:\n",
    "    pdburl = \"https://alphafold.ebi.ac.uk/files/AF-{}-F1-model_v4.pdb\"\n",
    "    pdbs = \"./pdbs/{}.pdb\"\n",
    "    sum_pdb_len = 0\n",
    "    thread_list = []\n",
    "    nl = []\n",
    "    def get_names(self):\n",
    "        f = open('./namelist.txt')\n",
    "        for name in f.readlines():\n",
    "            self.nl.append(name.replace('\\n',''))\n",
    "    \n",
    "    def getpdb(self,asd):\n",
    "        req = requests.get(self.pdburl.format(asd))\n",
    "        with open(self.pdbs.format(asd), \"wb\") as f:\n",
    "            f.write(req.content)\n",
    "        self.sum_pdb_len = self.sum_pdb_len - 1\n",
    "        print(\"下载\"+asd+\"完成,还剩\"+str(self.sum_pdb_len)+\"个\")\n",
    "        \n",
    "        \n",
    "    def threads_get_pdbs(self):\n",
    "        for name in self.nl:\n",
    "            t = threading.Thread(target=self.getpdb,args=(name,))\n",
    "            self.sum_pdb_len = self.sum_pdb_len + 1\n",
    "            self.thread_list.append(t)\n",
    "        for t in self.thread_list:\n",
    "            t.start()\n",
    "        for t in self.thread_list:\n",
    "            t.join()\n",
    "            \n",
    "    def clean(self):\n",
    "        system(\"mv ./pdbs/* ./pre_pdbs/\")\n",
    "        \n",
    "    def __init__(self) -> None:\n",
    "        self.clean()\n",
    "        self.get_names()\n",
    "        self.threads_get_pdbs()\n",
    "\n",
    "class Contact_maps_proteintoolsweb:\n",
    "    sum_csv_len = 0\n",
    "    pdb_list = []\n",
    "    hub = 'http://localhost:4444/wd/hub'\n",
    "    contact_map_url = \"https://proteintools.uni-bayreuth.de/contacts/\"\n",
    "    pdb_upload_floder = './pdbs/{}'\n",
    "    csv_save_floder = \"./csvs/\"\n",
    "    def get_pdbs(self):\n",
    "        a = popen(\"ls ./pdbs/\")\n",
    "        for i in a.readlines():\n",
    "            self.pdb_list.append(i.replace(\"\\n\",\"\"))\n",
    "    def new_driver(self,name):\n",
    "        name.replace('\\n','')\n",
    "        firefox_options = webdriver.FirefoxOptions()\n",
    "        firefox_options.set_preference('browser.download.folderList', 2)\n",
    "        firefox_options.set_preference('browser.download.manager.showWhenStarting', False)\n",
    "        firefox_options.set_preference('browser.helperApps.neverAsk.saveToDisk', 'application/zip')\n",
    "        firefox_options.set_preference('browser.download.dir', '/home/seluser/csvs/{}/'.format(name[:-4]))\n",
    "        #self.firefox_options.set_preference('browser.download.dir', '/home/seluser/csvs/')\n",
    "        driver = webdriver.Remote(\n",
    "        command_executor = self.hub,\n",
    "        options=firefox_options\n",
    "        )\n",
    "        driver.implicitly_wait(720)\n",
    "        return driver\n",
    "    def wait_downlaod(self,name):\n",
    "        timeout = 0\n",
    "        mx_timeout = 70\n",
    "        while(True):\n",
    "            timeout += 1\n",
    "            if timeout > mx_timeout:\n",
    "                return False\n",
    "            if path.exists(\"./csvs/{}/\".format(name)):\n",
    "                break\n",
    "            else:\n",
    "                sleep(1)\n",
    "        while(True):\n",
    "            timeout += 1\n",
    "            if timeout > mx_timeout:\n",
    "                return False\n",
    "            presize = path.getsize(\"./csvs/{}/contact_maps_table.csv\".format(name))\n",
    "            sleep(1)\n",
    "            nowsize = path.getsize(\"./csvs/{}/contact_maps_table.csv\".format(name))\n",
    "            if(presize == nowsize):\n",
    "                return True\n",
    "    \n",
    "    def get_contact_map(self,name):\n",
    "        name.replace('\\n','')\n",
    "        driver = self.new_driver(name)\n",
    "        try:\n",
    "            print(name)\n",
    "            driver.get(self.contact_map_url)\n",
    "            upload = driver.find_element_by_id(\"customFile\")\n",
    "            #upload = driver.find_element_by_xpath('//*[@id=\"customFile\"]')\n",
    "            print(\"1上传\"+str(self.pdb_upload_floder.format(name)))\n",
    "            upload.send_keys(self.pdb_upload_floder.format(name))\n",
    "            print(\"2上传\"+str(self.pdb_upload_floder.format(name)))\n",
    "            submit = driver.find_element_by_id(\"btnFetch\")\n",
    "            submit.click()\n",
    "            # WebDriverWait(driver, 360, 1).until(\n",
    "            #         EC.element_to_be_clickable((By.XPATH, \"/html/body/div[1]/div[2]/a\"))\n",
    "            #     )\n",
    "            download = driver.find_element_by_xpath(\"/html/body/div[1]/div[2]/a\")\n",
    "            download.click()\n",
    "            if(self.wait_downlaod(name)):\n",
    "                self.sum_csv_len = self.sum_csv_len - 1\n",
    "                print(name+\"已完成,剩余\"+str(self.sum_csv_len)+\"个\")\n",
    "                driver.quit()\n",
    "            else:\n",
    "                print(name+\"下载失败,line 126\")\n",
    "        except:\n",
    "            print(\"except\"+name)\n",
    "            driver.quit()\n",
    "    \n",
    "        \n",
    "    \n",
    "    def csv_thread(self):\n",
    "        get_csvs_thread_list = []\n",
    "        for name in self.pdb_list:\n",
    "            self.sum_csv_len = self.sum_csv_len + 1\n",
    "            t = threading.Thread(target=self.get_contact_map,args=(name,))\n",
    "            get_csvs_thread_list.append(t)\n",
    "        for t in get_csvs_thread_list:\n",
    "            sleep(5)\n",
    "            t.start()\n",
    "        for t in get_csvs_thread_list:\n",
    "            t.join()\n",
    "    def clean(self):\n",
    "        system(\"mv ./csvs/* ./pre_csvs/\")\n",
    "    # def __init__(self) -> None:\n",
    "    #     self.clean()\n",
    "    #     self.get_pdbs()\n",
    "    #     self.csv_thread()\n",
    "\n",
    "\n"
   ]
  },
  {
   "cell_type": "code",
   "execution_count": 3,
   "metadata": {},
   "outputs": [],
   "source": [
    "a = Contact_maps_proteintoolsweb()"
   ]
  },
  {
   "cell_type": "code",
   "execution_count": 4,
   "metadata": {},
   "outputs": [],
   "source": [
    "a.get_pdbs()"
   ]
  },
  {
   "cell_type": "code",
   "execution_count": 7,
   "metadata": {},
   "outputs": [],
   "source": [
    "name = a.pdb_list[0].replace('\\n','')"
   ]
  },
  {
   "cell_type": "code",
   "execution_count": 10,
   "metadata": {},
   "outputs": [],
   "source": [
    "driver = a.new_driver(name)"
   ]
  },
  {
   "cell_type": "code",
   "execution_count": 11,
   "metadata": {},
   "outputs": [],
   "source": [
    "driver.get(a.contact_map_url)"
   ]
  },
  {
   "cell_type": "code",
   "execution_count": 13,
   "metadata": {},
   "outputs": [],
   "source": [
    "upload = driver.find_element(By.ID,\"customFile\")"
   ]
  },
  {
   "cell_type": "code",
   "execution_count": 14,
   "metadata": {},
   "outputs": [],
   "source": [
    "upload.send_keys('./pdbs/P41903.pdb')"
   ]
  },
  {
   "cell_type": "code",
   "execution_count": 17,
   "metadata": {},
   "outputs": [],
   "source": [
    "submit = driver.find_element(By.ID,\"btnFetch\")"
   ]
  },
  {
   "cell_type": "code",
   "execution_count": 18,
   "metadata": {},
   "outputs": [],
   "source": [
    "submit.click()"
   ]
  },
  {
   "cell_type": "code",
   "execution_count": 22,
   "metadata": {},
   "outputs": [],
   "source": [
    "wait = WebDriverWait(driver, 70)\n",
    "download = wait.until(EC.visibility_of_element_located((By.XPATH,'/html/body/div[1]/div[2]/a')))\n",
    "download = wait.until(EC.element_to_be_clickable((By.XPATH,'/html/body/div[1]/div[2]/a')))"
   ]
  },
  {
   "cell_type": "code",
   "execution_count": 23,
   "metadata": {},
   "outputs": [],
   "source": [
    "download.click()"
   ]
  },
  {
   "cell_type": "code",
   "execution_count": 24,
   "metadata": {},
   "outputs": [],
   "source": [
    "driver.close()"
   ]
  },
  {
   "cell_type": "code",
   "execution_count": 26,
   "metadata": {},
   "outputs": [],
   "source": [
    "import os.path"
   ]
  },
  {
   "cell_type": "code",
   "execution_count": 27,
   "metadata": {},
   "outputs": [
    {
     "data": {
      "text/plain": [
       "True"
      ]
     },
     "execution_count": 27,
     "metadata": {},
     "output_type": "execute_result"
    }
   ],
   "source": [
    "path.exists(\"./csvs/P41903/\")"
   ]
  },
  {
   "cell_type": "code",
   "execution_count": 1,
   "metadata": {},
   "outputs": [
    {
     "data": {
      "text/plain": [
       "'asda'"
      ]
     },
     "execution_count": 1,
     "metadata": {},
     "output_type": "execute_result"
    }
   ],
   "source": [
    "\"asda.pdb\".replace(\".pdb\",\"\")"
   ]
  },
  {
   "cell_type": "code",
   "execution_count": null,
   "metadata": {},
   "outputs": [],
   "source": [
    "with concurrent.futures.ThreadPoolExecutor(max_workers=MAX_THREADS) as executor:\n",
    "    # 创建线程池\n",
    "    futures = []\n",
    "    for name in self.pdb_list:\n",
    "        future = executor.submit(self.get_contact_map, name)\n",
    "        futures.append(future)\n",
    "\n",
    "    # 等待所有任务完成\n",
    "    for future in concurrent.futures.as_completed(futures):\n",
    "        try:\n",
    "            result = future.result()\n",
    "            # 处理任务结果\n",
    "        except Exception as exc:\n",
    "            print('任务失败：%s' % exc)"
   ]
  }
 ],
 "metadata": {
  "kernelspec": {
   "display_name": "spider",
   "language": "python",
   "name": "python3"
  },
  "language_info": {
   "codemirror_mode": {
    "name": "ipython",
    "version": 3
   },
   "file_extension": ".py",
   "mimetype": "text/x-python",
   "name": "python",
   "nbconvert_exporter": "python",
   "pygments_lexer": "ipython3",
   "version": "3.7.16"
  },
  "orig_nbformat": 4,
  "vscode": {
   "interpreter": {
    "hash": "46eddf210b7e40f26fe59f6ae3d654aa85aa6d8ae6562e741edb498ff44b6f77"
   }
  }
 },
 "nbformat": 4,
 "nbformat_minor": 2
}
