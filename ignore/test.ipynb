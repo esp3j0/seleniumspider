{
 "cells": [
  {
   "cell_type": "code",
   "execution_count": 32,
   "metadata": {},
   "outputs": [],
   "source": [
    "import requests\n",
    "class pdb_proteintoolweb:\n",
    "    pdburl = \"https://alphafold.ebi.ac.uk/files/AF-{}-F1-model_v4.pdb\"\n",
    "    pdbs = \"./pdbs/{}.pdb\"\n",
    "    def getodbs(self, s):\n",
    "        req = requests.get(self.pdburl.format(s))\n",
    "        with open(self.pdbs.format(s), \"wb\") as f:\n",
    "            f.write(req.content)"
   ]
  },
  {
   "cell_type": "code",
   "execution_count": 70,
   "metadata": {},
   "outputs": [],
   "source": [
    "from selenium import webdriver\n",
    "from selenium.webdriver.common.by import By\n",
    "from selenium.webdriver.support.ui import WebDriverWait\n",
    "from selenium.webdriver.support import expected_conditions as EC\n",
    "from time import sleep\n",
    "from os import popen\n",
    "class Contact_maps_proteintoolsweb:\n",
    "    firefox_options = webdriver.FirefoxOptions()\n",
    "    firefox_options.set_preference('browser.download.folderList', 2)\n",
    "    firefox_options.set_preference('browser.download.manager.showWhenStarting', False)\n",
    "    firefox_options.set_preference('browser.helperApps.neverAsk.saveToDisk', 'application/zip')\n",
    "    pdb_list = []\n",
    "    hub = 'http://kali.lan:4444/wd/hub'\n",
    "    contact_map_url = \"https://proteintools.uni-bayreuth.de/contacts/\"\n",
    "    pdb_upload_floder = './pdbs/{}'\n",
    "    csv_save_floder = \"./csvs/\"\n",
    "    def get_pdbs(self):\n",
    "        a = popen(\"ls ./pdbs/\")\n",
    "        for i in a.readlines():\n",
    "            self.pdb_list.append(i.replace(\"\\n\",\"\"))\n",
    "    def new_driver(self,name):\n",
    "        self.firefox_options.set_preference('browser.download.dir', '/home/seluser/csvs/{}'.format(name))\n",
    "        driver = webdriver.Remote(\n",
    "        command_executor = self.hub,\n",
    "        options=self.firefox_options\n",
    "        )\n",
    "        driver.implicitly_wait(720)\n",
    "        return driver\n",
    "    def get_contact_map(self,name):\n",
    "        driver = self.new_driver(name)\n",
    "        try:\n",
    "            driver.get(self.contact_map_url)\n",
    "            upload = driver.find_element_by_id(\"customFile\")\n",
    "            upload.send_keys(self.pdb_upload_floder.format(name))\n",
    "            submit = driver.find_element_by_id(\"btnFetch\")\n",
    "            submit.click()\n",
    "            \n",
    "            download = WebDriverWait(driver, 130).until(\n",
    "                    EC.element_to_be_clickable((By.XPATH, \"/html/body/div[1]/div[2]/a\"))\n",
    "                )\n",
    "           \n",
    "                \n",
    "            download.click()\n",
    "            driver.quit()\n",
    "        except:\n",
    "            driver.quit()\n",
    "    def __init__(self) -> None:\n",
    "        self.get_pdbs()\n",
    "        for name in self.pdb_list:\n",
    "            print(\"{}已加入队列\".format(name))\n",
    "            self.get_contact_map(name)\n",
    "            \n",
    "        \n",
    "    \n",
    "    "
   ]
  },
  {
   "cell_type": "code",
   "execution_count": 47,
   "metadata": {},
   "outputs": [],
   "source": [
    "p = pdb_proteintoolweb()\n",
    "p.getodbs(\"Q9DBA6\")"
   ]
  },
  {
   "cell_type": "code",
   "execution_count": 71,
   "metadata": {},
   "outputs": [
    {
     "name": "stdout",
     "output_type": "stream",
     "text": [
      "Q9DBA6.pdb已加入队列\n"
     ]
    },
    {
     "data": {
      "text/plain": [
       "<__main__.Contact_maps_proteintoolsweb at 0x7f0ad4e0f6d0>"
      ]
     },
     "execution_count": 71,
     "metadata": {},
     "output_type": "execute_result"
    }
   ],
   "source": [
    "Contact_maps_proteintoolsweb()"
   ]
  },
  {
   "cell_type": "code",
   "execution_count": 21,
   "metadata": {},
   "outputs": [
    {
     "data": {
      "text/plain": [
       "'Q9DBA6\\n'"
      ]
     },
     "execution_count": 21,
     "metadata": {},
     "output_type": "execute_result"
    }
   ],
   "source": [
    "a.readline()"
   ]
  },
  {
   "cell_type": "code",
   "execution_count": 1,
   "metadata": {},
   "outputs": [
    {
     "name": "stdout",
     "output_type": "stream",
     "text": [
      "Q8VHK0\n",
      "\n",
      "Q9EPL9\n",
      "\n",
      "Q9DBA6\n",
      "\n",
      "P41903\n",
      "\n",
      "P53248\n"
     ]
    }
   ],
   "source": [
    "nl = []\n",
    "f = open('./namelist.txt')\n",
    "for name in f.readlines():\n",
    "    print(name)\n",
    "    "
   ]
  },
  {
   "cell_type": "code",
   "execution_count": 7,
   "metadata": {},
   "outputs": [],
   "source": [
    "import requests\n",
    "from selenium import webdriver\n",
    "from selenium.webdriver.common.by import By\n",
    "from selenium.webdriver.support.ui import WebDriverWait\n",
    "from selenium.webdriver.support import expected_conditions as EC\n",
    "from os import popen\n",
    "from time import sleep\n",
    "import threading\n",
    "\n",
    "class pdb_proteintoolweb:\n",
    "    pdburl = \"https://alphafold.ebi.ac.uk/files/AF-{}-F1-model_v4.pdb\"\n",
    "    pdbs = \"./pdbs/{}.pdb\"\n",
    "    sum_pdb_len = 0\n",
    "    thread_list = []\n",
    "    nl = []\n",
    "    def get_names(self):\n",
    "        f = open('./namelist.txt')\n",
    "        for name in f.readlines():\n",
    "            self.nl.append(name.replace('\\n',''))\n",
    "    \n",
    "    def getpdb(self,asd):\n",
    "        req = requests.get(self.pdburl.format(asd))\n",
    "        with open(self.pdbs.format(asd), \"wb\") as f:\n",
    "            f.write(req.content)\n",
    "        self.sum_pdb_len = self.sum_pdb_len - 1\n",
    "        print(\"下载\"+asd+\"完成,还剩\"+str(self.sum_pdb_len)+\"个\")\n",
    "        \n",
    "        \n",
    "    def threads_get_pdbs(self):\n",
    "        for name in self.nl:\n",
    "            t = threading.Thread(target=self.getpdb,args=(name,))\n",
    "            self.sum_pdb_len = self.sum_pdb_len + 1\n",
    "            self.thread_list.append(t)\n",
    "        for t in self.thread_list:\n",
    "            t.start()\n",
    "        for t in self.thread_list:\n",
    "            t.join()"
   ]
  },
  {
   "cell_type": "code",
   "execution_count": 8,
   "metadata": {},
   "outputs": [],
   "source": [
    "a = pdb_proteintoolweb()"
   ]
  },
  {
   "cell_type": "code",
   "execution_count": 9,
   "metadata": {},
   "outputs": [
    {
     "data": {
      "text/plain": [
       "['Q8VHK0', 'Q9EPL9', 'Q9DBA6', 'P41903', 'P53248']"
      ]
     },
     "execution_count": 9,
     "metadata": {},
     "output_type": "execute_result"
    }
   ],
   "source": [
    "a.get_names()\n",
    "a.nl"
   ]
  },
  {
   "cell_type": "code",
   "execution_count": 34,
   "metadata": {},
   "outputs": [
    {
     "name": "stdout",
     "output_type": "stream",
     "text": [
      "下载Q8VHK0完成,还剩4个\n",
      "下载P41903完成,还剩3个\n",
      "下载Q9DBA6完成,还剩2个\n",
      "下载P53248完成,还剩1个\n",
      "下载Q9EPL9完成,还剩0个\n"
     ]
    }
   ],
   "source": [
    "a.threads_get_pdbs()"
   ]
  },
  {
   "cell_type": "code",
   "execution_count": 30,
   "metadata": {},
   "outputs": [
    {
     "data": {
      "text/plain": [
       "[]"
      ]
     },
     "execution_count": 30,
     "metadata": {},
     "output_type": "execute_result"
    }
   ],
   "source": [
    "a.nl"
   ]
  },
  {
   "cell_type": "code",
   "execution_count": 6,
   "metadata": {},
   "outputs": [
    {
     "ename": "TypeError",
     "evalue": "get_names() takes 1 positional argument but 2 were given",
     "output_type": "error",
     "traceback": [
      "\u001b[0;31m---------------------------------------------------------------------------\u001b[0m",
      "\u001b[0;31mTypeError\u001b[0m                                 Traceback (most recent call last)",
      "\u001b[0;32m/tmp/ipykernel_2065/488621150.py\u001b[0m in \u001b[0;36m<module>\u001b[0;34m\u001b[0m\n\u001b[0;32m----> 1\u001b[0;31m \u001b[0ma\u001b[0m\u001b[0;34m.\u001b[0m\u001b[0mget_names\u001b[0m\u001b[0;34m(\u001b[0m\u001b[0;34m\"P53248\"\u001b[0m\u001b[0;34m)\u001b[0m\u001b[0;34m\u001b[0m\u001b[0;34m\u001b[0m\u001b[0m\n\u001b[0m",
      "\u001b[0;31mTypeError\u001b[0m: get_names() takes 1 positional argument but 2 were given"
     ]
    }
   ],
   "source": [
    "a.t"
   ]
  },
  {
   "cell_type": "code",
   "execution_count": 29,
   "metadata": {},
   "outputs": [],
   "source": [
    "class Contact_maps_proteintoolsweb:\n",
    "    sum_csv_len = 0\n",
    "    pdb_list = []\n",
    "    hub = 'http://kali.lan:4444/wd/hub'\n",
    "    contact_map_url = \"https://proteintools.uni-bayreuth.de/contacts/\"\n",
    "    pdb_upload_floder = './pdbs/{}'\n",
    "    csv_save_floder = \"./csvs/\"\n",
    "    def get_pdbs(self):\n",
    "        a = popen(\"ls ./pdbs/\")\n",
    "        for i in a.readlines():\n",
    "            self.pdb_list.append(i.replace(\"\\n\",\"\"))\n",
    "    def new_driver(self,name):\n",
    "        name.replace('\\n','')\n",
    "        firefox_options = webdriver.FirefoxOptions()\n",
    "        firefox_options.set_preference('browser.download.folderList', 2)\n",
    "        firefox_options.set_preference('browser.download.manager.showWhenStarting', False)\n",
    "        firefox_options.set_preference('browser.helperApps.neverAsk.saveToDisk', 'application/zip')\n",
    "        firefox_options.set_preference('browser.download.dir', '/home/seluser/csvs/{}/'.format(name[:-4]))\n",
    "        #self.firefox_options.set_preference('browser.download.dir', '/home/seluser/csvs/')\n",
    "        driver = webdriver.Remote(\n",
    "        command_executor = self.hub,\n",
    "        options=firefox_options\n",
    "        )\n",
    "        driver.implicitly_wait(720)\n",
    "        return driver\n",
    "    def get_contact_map(self,name):\n",
    "        name.replace('\\n','')\n",
    "        driver = self.new_driver(name)\n",
    "        try:\n",
    "            print(name)\n",
    "            driver.get(self.contact_map_url)\n",
    "            upload = driver.find_element_by_id(\"customFile\")\n",
    "            upload.send_keys(self.pdb_upload_floder.format(name))\n",
    "            submit = driver.find_element_by_id(\"btnFetch\")\n",
    "            submit.click()\n",
    "            WebDriverWait(driver, 360, 1).until(\n",
    "                    EC.element_to_be_clickable((By.XPATH, \"/html/body/div[1]/div[2]/a\"))\n",
    "                )\n",
    "            download = driver.find_element_by_xpath(\"/html/body/div[1]/div[2]/a\")\n",
    "            sleep(1)\n",
    "            download.click()\n",
    "            print(\"uncl\")\n",
    "            self.sum_csv_len = self.sum_csv_len - 1\n",
    "            print(\"grgrrgrg\")\n",
    "            print(name+\"已完成,剩余\"+self.sum_csv_len+\"个\")\n",
    "            driver.quit()\n",
    "        except:\n",
    "            print(\"except\"+name)\n",
    "            driver.quit()\n",
    "    def csv_thread(self):\n",
    "        get_csvs_thread_list = []\n",
    "        for name in self.pdb_list:\n",
    "            self.sum_csv_len = self.sum_csv_len + 1\n",
    "            t = threading.Thread(target=self.get_contact_map,args=(name,))\n",
    "            get_csvs_thread_list.append(t)\n",
    "        for t in get_csvs_thread_list:\n",
    "            sleep(3)\n",
    "            t.start()\n",
    "        for t in get_csvs_thread_list:\n",
    "            t.join()"
   ]
  },
  {
   "cell_type": "code",
   "execution_count": 30,
   "metadata": {},
   "outputs": [],
   "source": [
    "a = Contact_maps_proteintoolsweb()"
   ]
  },
  {
   "cell_type": "code",
   "execution_count": 31,
   "metadata": {},
   "outputs": [],
   "source": [
    "a.get_pdbs()"
   ]
  },
  {
   "cell_type": "code",
   "execution_count": 32,
   "metadata": {},
   "outputs": [
    {
     "data": {
      "text/plain": [
       "['Q8VHK0.pdb']"
      ]
     },
     "execution_count": 32,
     "metadata": {},
     "output_type": "execute_result"
    }
   ],
   "source": [
    "a.pdb_list"
   ]
  },
  {
   "cell_type": "code",
   "execution_count": 17,
   "metadata": {},
   "outputs": [
    {
     "name": "stdout",
     "output_type": "stream",
     "text": [
      "Q8VHK0.pdb\n",
      "uncl\n",
      "grgrrgrg\n",
      "exceptQ8VHK0.pdb\n"
     ]
    }
   ],
   "source": [
    "a.get_contact_map(\"Q8VHK0.pdb\")"
   ]
  },
  {
   "cell_type": "code",
   "execution_count": 33,
   "metadata": {},
   "outputs": [
    {
     "name": "stdout",
     "output_type": "stream",
     "text": [
      "Q8VHK0.pdb\n",
      "uncl\n",
      "grgrrgrg\n",
      "exceptQ8VHK0.pdb\n"
     ]
    }
   ],
   "source": [
    "a.csv_thread()"
   ]
  },
  {
   "cell_type": "code",
   "execution_count": 7,
   "metadata": {},
   "outputs": [],
   "source": [
    "from os import path\n",
    "from time import sleep\n",
    "\n",
    "timeout = 0\n",
    "mx_timeout = 20\n",
    "\n",
    "while(True):\n",
    "    timeout += 1\n",
    "    if timeout > mx_timeout:\n",
    "        break\n",
    "    if path.exists(\"./csvs/{}/\".format(\"P41903\")):\n",
    "        break\n",
    "    else:\n",
    "        sleep(1)\n",
    "\n",
    "while(True):\n",
    "    timeout += 1\n",
    "    if timeout > mx_timeout:\n",
    "        break\n",
    "    presize = path.getsize(\"./csvs/{}/contact_maps_table.csv\".format(\"P41903\"))\n",
    "    sleep(1)\n",
    "    nowsize = path.getsize(\"./csvs/{}/contact_maps_table.csv\".format(\"P41903\"))\n",
    "    if(presize == nowsize):\n",
    "        break"
   ]
  },
  {
   "cell_type": "code",
   "execution_count": null,
   "metadata": {},
   "outputs": [],
   "source": []
  }
 ],
 "metadata": {
  "kernelspec": {
   "display_name": "Python 3.7.13 ('protein')",
   "language": "python",
   "name": "python3"
  },
  "language_info": {
   "codemirror_mode": {
    "name": "ipython",
    "version": 3
   },
   "file_extension": ".py",
   "mimetype": "text/x-python",
   "name": "python",
   "nbconvert_exporter": "python",
   "pygments_lexer": "ipython3",
   "version": "3.7.13"
  },
  "orig_nbformat": 4,
  "vscode": {
   "interpreter": {
    "hash": "4d5cb3a3b29810c58d5a9d8ddddd0ef5fbdbefa7ed0d53e2a93e34b78c4dc68d"
   }
  }
 },
 "nbformat": 4,
 "nbformat_minor": 2
}
